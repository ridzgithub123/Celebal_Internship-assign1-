{
 "cells": [
  {
   "cell_type": "code",
   "execution_count": 1,
   "id": "3673b810-862c-4f44-9e3b-02d47f8c58ec",
   "metadata": {},
   "outputs": [
    {
     "name": "stdout",
     "output_type": "stream",
     "text": [
      "UPPER TRIANGLE\n",
      "*\n",
      "**\n",
      "***\n",
      "****\n",
      "*****\n",
      "LOWER TRIANGLE\n",
      "*****\n",
      "****\n",
      "***\n",
      "**\n",
      "*\n",
      "PYRAMID\n",
      "    *\n",
      "   ***\n",
      "  *****\n",
      " *******\n",
      "*********\n"
     ]
    }
   ],
   "source": [
    "## PROGRAM TO PRINT LOWER TRIANGLE ,UPPER TRIANGLE AND PYRAMID USING '*' CHARACTER...\n",
    "\n",
    "def upper_triangle(n):\n",
    "    print(\"UPPER TRIANGLE\")\n",
    "    for i in range (0,n):\n",
    "        for j in range(0,i+1):\n",
    "            print(\"*\",end=\"\")\n",
    "        print()\n",
    "\n",
    "\n",
    "    \n",
    "def lower_triangle(n):\n",
    "    print(\"LOWER TRIANGLE\")\n",
    "    for i in range (n,0,-1):\n",
    "        for j in range(i,0,-1):\n",
    "            print(\"*\",end=\"\")\n",
    "        print()\n",
    "\n",
    "\n",
    "def full_pyramid(n):\n",
    "    print(\"PYRAMID\")\n",
    "    for i in range(1, n + 1):\n",
    "        for j in range(n - i):\n",
    "            print(\" \", end=\"\")\n",
    "        for k in range(1, 2*i):\n",
    "            print(\"*\", end=\"\")\n",
    "        print()\n",
    "\n",
    "\n",
    "upper_triangle(5)\n",
    "lower_triangle(5)            \n",
    "full_pyramid(5)\n"
   ]
  },
  {
   "cell_type": "code",
   "execution_count": null,
   "id": "60017b36-a039-4742-9553-d127b5e9a09b",
   "metadata": {},
   "outputs": [],
   "source": []
  }
 ],
 "metadata": {
  "kernelspec": {
   "display_name": "Python 3 (ipykernel)",
   "language": "python",
   "name": "python3"
  },
  "language_info": {
   "codemirror_mode": {
    "name": "ipython",
    "version": 3
   },
   "file_extension": ".py",
   "mimetype": "text/x-python",
   "name": "python",
   "nbconvert_exporter": "python",
   "pygments_lexer": "ipython3",
   "version": "3.10.8"
  }
 },
 "nbformat": 4,
 "nbformat_minor": 5
}
